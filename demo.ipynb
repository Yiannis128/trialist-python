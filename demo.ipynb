{
 "cells": [
  {
   "cell_type": "markdown",
   "id": "01c3cac0",
   "metadata": {},
   "source": [
    "# Trialist Library Demo\n",
    "\n",
    "The following example will run the experiments once, then the second time will\n",
    "automatically load the results from cache."
   ]
  },
  {
   "cell_type": "markdown",
   "id": "d27399b2",
   "metadata": {},
   "source": [
    "## Setup\n",
    "\n",
    "We create a trial and specify where to store the checkpoints, along with our\n",
    "experiment function that will run over one configuration of the experiments."
   ]
  },
  {
   "cell_type": "code",
   "execution_count": 1,
   "id": "f5919652",
   "metadata": {},
   "outputs": [],
   "source": [
    "from pathlib import Path\n",
    "from typing import Any\n",
    "from time import sleep, time\n",
    "from random import randrange\n",
    "from trialist import Trials, Experiment, Checkpoint\n",
    "\n",
    "\n",
    "def experiment(exp: Experiment) -> Any:\n",
    "    print(f\"Starting expensive calculation {exp.params} #{exp.idx}/{exp.max_count}\")\n",
    "    start = time()\n",
    "    sleep(2 + randrange(-1, 1) * 0.5)\n",
    "    end = time()\n",
    "    return {\n",
    "        \"value\": f\"Result {exp.idx}\",\n",
    "        \"time_taken\": end - start,\n",
    "    }\n",
    "\n",
    "\n",
    "trial = Trials(\n",
    "    checkpoint=Checkpoint(checkpoint_dir=Path(\"./results\")),\n",
    "    exp_fn=experiment,\n",
    "    key_gen=lambda exp: str(exp.idx),\n",
    ")"
   ]
  },
  {
   "cell_type": "markdown",
   "id": "2d1c8143",
   "metadata": {},
   "source": [
    "## Clear Previous Checkpoints\n",
    "\n",
    "For the purposes of the demonstration, we clear the previous checkpoints set."
   ]
  },
  {
   "cell_type": "code",
   "execution_count": 2,
   "id": "b89e400e",
   "metadata": {},
   "outputs": [],
   "source": [
    "trial.clear_checkpoints()"
   ]
  },
  {
   "cell_type": "markdown",
   "id": "dfb19da2",
   "metadata": {},
   "source": [
    "## Run First Time\n",
    "\n",
    "Running the experiments first time, will generate and cache the results. We pass\n",
    "the types of parameters we are going to loop over and also the amount of iterations\n",
    "each parameter will go through.\n",
    "\n",
    "In this case, we are going to be cycling over 2 example parameters with a count\n",
    "of 20 and 100. Calling `run` will trigger the `experiment` function we defined."
   ]
  },
  {
   "cell_type": "code",
   "execution_count": 3,
   "id": "ea323a67",
   "metadata": {},
   "outputs": [
    {
     "name": "stdout",
     "output_type": "stream",
     "text": [
      "Starting expensive calculation {'epochs': 1, 'lr_mult': 1} #0/10\n"
     ]
    },
    {
     "name": "stderr",
     "output_type": "stream",
     "text": [
      "\u001b[32m2025-04-30 14:59:04.227\u001b[0m | \u001b[1mINFO    \u001b[0m | \u001b[36mtrialist.experiment\u001b[0m:\u001b[36msave\u001b[0m:\u001b[36m81\u001b[0m - \u001b[1mCheckpoint saved: results/0\u001b[0m\n"
     ]
    },
    {
     "name": "stdout",
     "output_type": "stream",
     "text": [
      "Starting expensive calculation {'epochs': 1, 'lr_mult': 2} #1/10\n"
     ]
    },
    {
     "name": "stderr",
     "output_type": "stream",
     "text": [
      "\u001b[32m2025-04-30 14:59:05.731\u001b[0m | \u001b[1mINFO    \u001b[0m | \u001b[36mtrialist.experiment\u001b[0m:\u001b[36msave\u001b[0m:\u001b[36m81\u001b[0m - \u001b[1mCheckpoint saved: results/1\u001b[0m\n"
     ]
    },
    {
     "name": "stdout",
     "output_type": "stream",
     "text": [
      "Starting expensive calculation {'epochs': 2, 'lr_mult': 1} #2/10\n"
     ]
    },
    {
     "name": "stderr",
     "output_type": "stream",
     "text": [
      "\u001b[32m2025-04-30 14:59:07.234\u001b[0m | \u001b[1mINFO    \u001b[0m | \u001b[36mtrialist.experiment\u001b[0m:\u001b[36msave\u001b[0m:\u001b[36m81\u001b[0m - \u001b[1mCheckpoint saved: results/2\u001b[0m\n"
     ]
    },
    {
     "name": "stdout",
     "output_type": "stream",
     "text": [
      "Starting expensive calculation {'epochs': 2, 'lr_mult': 2} #3/10\n"
     ]
    },
    {
     "name": "stderr",
     "output_type": "stream",
     "text": [
      "\u001b[32m2025-04-30 14:59:09.237\u001b[0m | \u001b[1mINFO    \u001b[0m | \u001b[36mtrialist.experiment\u001b[0m:\u001b[36msave\u001b[0m:\u001b[36m81\u001b[0m - \u001b[1mCheckpoint saved: results/3\u001b[0m\n"
     ]
    },
    {
     "name": "stdout",
     "output_type": "stream",
     "text": [
      "Starting expensive calculation {'epochs': 3, 'lr_mult': 1} #4/10\n"
     ]
    },
    {
     "name": "stderr",
     "output_type": "stream",
     "text": [
      "\u001b[32m2025-04-30 14:59:11.240\u001b[0m | \u001b[1mINFO    \u001b[0m | \u001b[36mtrialist.experiment\u001b[0m:\u001b[36msave\u001b[0m:\u001b[36m81\u001b[0m - \u001b[1mCheckpoint saved: results/4\u001b[0m\n"
     ]
    },
    {
     "name": "stdout",
     "output_type": "stream",
     "text": [
      "Starting expensive calculation {'epochs': 3, 'lr_mult': 2} #5/10\n"
     ]
    },
    {
     "name": "stderr",
     "output_type": "stream",
     "text": [
      "\u001b[32m2025-04-30 14:59:12.744\u001b[0m | \u001b[1mINFO    \u001b[0m | \u001b[36mtrialist.experiment\u001b[0m:\u001b[36msave\u001b[0m:\u001b[36m81\u001b[0m - \u001b[1mCheckpoint saved: results/5\u001b[0m\n"
     ]
    },
    {
     "name": "stdout",
     "output_type": "stream",
     "text": [
      "Starting expensive calculation {'epochs': 4, 'lr_mult': 1} #6/10\n"
     ]
    },
    {
     "name": "stderr",
     "output_type": "stream",
     "text": [
      "\u001b[32m2025-04-30 14:59:14.247\u001b[0m | \u001b[1mINFO    \u001b[0m | \u001b[36mtrialist.experiment\u001b[0m:\u001b[36msave\u001b[0m:\u001b[36m81\u001b[0m - \u001b[1mCheckpoint saved: results/6\u001b[0m\n"
     ]
    },
    {
     "name": "stdout",
     "output_type": "stream",
     "text": [
      "Starting expensive calculation {'epochs': 4, 'lr_mult': 2} #7/10\n"
     ]
    },
    {
     "name": "stderr",
     "output_type": "stream",
     "text": [
      "\u001b[32m2025-04-30 14:59:16.250\u001b[0m | \u001b[1mINFO    \u001b[0m | \u001b[36mtrialist.experiment\u001b[0m:\u001b[36msave\u001b[0m:\u001b[36m81\u001b[0m - \u001b[1mCheckpoint saved: results/7\u001b[0m\n"
     ]
    },
    {
     "name": "stdout",
     "output_type": "stream",
     "text": [
      "Starting expensive calculation {'epochs': 5, 'lr_mult': 1} #8/10\n"
     ]
    },
    {
     "name": "stderr",
     "output_type": "stream",
     "text": [
      "\u001b[32m2025-04-30 14:59:18.253\u001b[0m | \u001b[1mINFO    \u001b[0m | \u001b[36mtrialist.experiment\u001b[0m:\u001b[36msave\u001b[0m:\u001b[36m81\u001b[0m - \u001b[1mCheckpoint saved: results/8\u001b[0m\n"
     ]
    },
    {
     "name": "stdout",
     "output_type": "stream",
     "text": [
      "Starting expensive calculation {'epochs': 5, 'lr_mult': 2} #9/10\n"
     ]
    },
    {
     "name": "stderr",
     "output_type": "stream",
     "text": [
      "\u001b[32m2025-04-30 14:59:19.757\u001b[0m | \u001b[1mINFO    \u001b[0m | \u001b[36mtrialist.experiment\u001b[0m:\u001b[36msave\u001b[0m:\u001b[36m81\u001b[0m - \u001b[1mCheckpoint saved: results/9\u001b[0m\n"
     ]
    },
    {
     "name": "stdout",
     "output_type": "stream",
     "text": [
      "ExperimentResult(experiment=Experiment(params={'epochs': 1, 'lr_mult': 1}, idx=0, max_count=10), result={'value': 'Result 0', 'time_taken': 2.000217914581299})\n",
      "ExperimentResult(experiment=Experiment(params={'epochs': 1, 'lr_mult': 2}, idx=1, max_count=10), result={'value': 'Result 1', 'time_taken': 1.5001285076141357})\n",
      "ExperimentResult(experiment=Experiment(params={'epochs': 2, 'lr_mult': 1}, idx=2, max_count=10), result={'value': 'Result 2', 'time_taken': 1.5001158714294434})\n",
      "ExperimentResult(experiment=Experiment(params={'epochs': 2, 'lr_mult': 2}, idx=3, max_count=10), result={'value': 'Result 3', 'time_taken': 2.0001285076141357})\n",
      "ExperimentResult(experiment=Experiment(params={'epochs': 3, 'lr_mult': 1}, idx=4, max_count=10), result={'value': 'Result 4', 'time_taken': 2.0002126693725586})\n",
      "ExperimentResult(experiment=Experiment(params={'epochs': 3, 'lr_mult': 2}, idx=5, max_count=10), result={'value': 'Result 5', 'time_taken': 1.500138759613037})\n",
      "ExperimentResult(experiment=Experiment(params={'epochs': 4, 'lr_mult': 1}, idx=6, max_count=10), result={'value': 'Result 6', 'time_taken': 1.5001022815704346})\n",
      "ExperimentResult(experiment=Experiment(params={'epochs': 4, 'lr_mult': 2}, idx=7, max_count=10), result={'value': 'Result 7', 'time_taken': 2.000122547149658})\n",
      "ExperimentResult(experiment=Experiment(params={'epochs': 5, 'lr_mult': 1}, idx=8, max_count=10), result={'value': 'Result 8', 'time_taken': 2.0001447200775146})\n",
      "ExperimentResult(experiment=Experiment(params={'epochs': 5, 'lr_mult': 2}, idx=9, max_count=10), result={'value': 'Result 9', 'time_taken': 1.5001177787780762})\n"
     ]
    }
   ],
   "source": [
    "results = trial.run([(\"epochs\", 5), (\"lr_mult\", 2)])\n",
    "\n",
    "for result in results:\n",
    "    print(result)"
   ]
  },
  {
   "cell_type": "markdown",
   "id": "9af45a4d",
   "metadata": {},
   "source": [
    "## Running More Times\n",
    "\n",
    "Running the trial agian, with the same parameters will result in loading from\n",
    "cache."
   ]
  },
  {
   "cell_type": "code",
   "execution_count": 4,
   "id": "38181a85",
   "metadata": {},
   "outputs": [
    {
     "name": "stderr",
     "output_type": "stream",
     "text": [
      "\u001b[32m2025-04-30 14:59:19.769\u001b[0m | \u001b[1mINFO    \u001b[0m | \u001b[36mtrialist.experiment\u001b[0m:\u001b[36mcheck\u001b[0m:\u001b[36m66\u001b[0m - \u001b[1mFound in cache: 0... Restoring...\u001b[0m\n",
      "\u001b[32m2025-04-30 14:59:19.772\u001b[0m | \u001b[1mINFO    \u001b[0m | \u001b[36mtrialist.experiment\u001b[0m:\u001b[36mcheck\u001b[0m:\u001b[36m66\u001b[0m - \u001b[1mFound in cache: 1... Restoring...\u001b[0m\n",
      "\u001b[32m2025-04-30 14:59:19.773\u001b[0m | \u001b[1mINFO    \u001b[0m | \u001b[36mtrialist.experiment\u001b[0m:\u001b[36mcheck\u001b[0m:\u001b[36m66\u001b[0m - \u001b[1mFound in cache: 2... Restoring...\u001b[0m\n",
      "\u001b[32m2025-04-30 14:59:19.775\u001b[0m | \u001b[1mINFO    \u001b[0m | \u001b[36mtrialist.experiment\u001b[0m:\u001b[36mcheck\u001b[0m:\u001b[36m66\u001b[0m - \u001b[1mFound in cache: 3... Restoring...\u001b[0m\n",
      "\u001b[32m2025-04-30 14:59:19.776\u001b[0m | \u001b[1mINFO    \u001b[0m | \u001b[36mtrialist.experiment\u001b[0m:\u001b[36mcheck\u001b[0m:\u001b[36m66\u001b[0m - \u001b[1mFound in cache: 4... Restoring...\u001b[0m\n",
      "\u001b[32m2025-04-30 14:59:19.778\u001b[0m | \u001b[1mINFO    \u001b[0m | \u001b[36mtrialist.experiment\u001b[0m:\u001b[36mcheck\u001b[0m:\u001b[36m66\u001b[0m - \u001b[1mFound in cache: 5... Restoring...\u001b[0m\n",
      "\u001b[32m2025-04-30 14:59:19.779\u001b[0m | \u001b[1mINFO    \u001b[0m | \u001b[36mtrialist.experiment\u001b[0m:\u001b[36mcheck\u001b[0m:\u001b[36m66\u001b[0m - \u001b[1mFound in cache: 6... Restoring...\u001b[0m\n",
      "\u001b[32m2025-04-30 14:59:19.781\u001b[0m | \u001b[1mINFO    \u001b[0m | \u001b[36mtrialist.experiment\u001b[0m:\u001b[36mcheck\u001b[0m:\u001b[36m66\u001b[0m - \u001b[1mFound in cache: 7... Restoring...\u001b[0m\n",
      "\u001b[32m2025-04-30 14:59:19.783\u001b[0m | \u001b[1mINFO    \u001b[0m | \u001b[36mtrialist.experiment\u001b[0m:\u001b[36mcheck\u001b[0m:\u001b[36m66\u001b[0m - \u001b[1mFound in cache: 8... Restoring...\u001b[0m\n",
      "\u001b[32m2025-04-30 14:59:19.785\u001b[0m | \u001b[1mINFO    \u001b[0m | \u001b[36mtrialist.experiment\u001b[0m:\u001b[36mcheck\u001b[0m:\u001b[36m66\u001b[0m - \u001b[1mFound in cache: 9... Restoring...\u001b[0m\n"
     ]
    },
    {
     "name": "stdout",
     "output_type": "stream",
     "text": [
      "ExperimentResult(experiment=Experiment(params={'ai_model': 1, 'epochs': 1}, idx=0, max_count=10), result={'value': 'Result 0', 'time_taken': 2.000217914581299})\n",
      "ExperimentResult(experiment=Experiment(params={'ai_model': 1, 'epochs': 2}, idx=1, max_count=10), result={'value': 'Result 1', 'time_taken': 1.5001285076141357})\n",
      "ExperimentResult(experiment=Experiment(params={'ai_model': 1, 'epochs': 3}, idx=2, max_count=10), result={'value': 'Result 2', 'time_taken': 1.5001158714294434})\n",
      "ExperimentResult(experiment=Experiment(params={'ai_model': 1, 'epochs': 4}, idx=3, max_count=10), result={'value': 'Result 3', 'time_taken': 2.0001285076141357})\n",
      "ExperimentResult(experiment=Experiment(params={'ai_model': 1, 'epochs': 5}, idx=4, max_count=10), result={'value': 'Result 4', 'time_taken': 2.0002126693725586})\n",
      "ExperimentResult(experiment=Experiment(params={'ai_model': 2, 'epochs': 1}, idx=5, max_count=10), result={'value': 'Result 5', 'time_taken': 1.500138759613037})\n",
      "ExperimentResult(experiment=Experiment(params={'ai_model': 2, 'epochs': 2}, idx=6, max_count=10), result={'value': 'Result 6', 'time_taken': 1.5001022815704346})\n",
      "ExperimentResult(experiment=Experiment(params={'ai_model': 2, 'epochs': 3}, idx=7, max_count=10), result={'value': 'Result 7', 'time_taken': 2.000122547149658})\n",
      "ExperimentResult(experiment=Experiment(params={'ai_model': 2, 'epochs': 4}, idx=8, max_count=10), result={'value': 'Result 8', 'time_taken': 2.0001447200775146})\n",
      "ExperimentResult(experiment=Experiment(params={'ai_model': 2, 'epochs': 5}, idx=9, max_count=10), result={'value': 'Result 9', 'time_taken': 1.5001177787780762})\n"
     ]
    }
   ],
   "source": [
    "results = trial.run([(\"ai_model\", 2), (\"epochs\", 5)])\n",
    "\n",
    "for result in results:\n",
    "    print(result)"
   ]
  }
 ],
 "metadata": {
  "kernelspec": {
   "display_name": "trialist-python-5e85d5fb7a768603f2f3583d4b500cc5",
   "language": "python",
   "name": "trialist-python-5e85d5fb7a768603f2f3583d4b500cc5"
  },
  "language_info": {
   "codemirror_mode": {
    "name": "ipython",
    "version": 3
   },
   "file_extension": ".py",
   "mimetype": "text/x-python",
   "name": "python",
   "nbconvert_exporter": "python",
   "pygments_lexer": "ipython3",
   "version": "3.12.0"
  }
 },
 "nbformat": 4,
 "nbformat_minor": 5
}
